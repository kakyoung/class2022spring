{
  "nbformat": 4,
  "nbformat_minor": 0,
  "metadata": {
    "colab": {
      "name": "Untitled6.ipynb",
      "provenance": [],
      "authorship_tag": "ABX9TyPXmUSozFOKP8SpiaNtx3IB",
      "include_colab_link": true
    },
    "kernelspec": {
      "name": "python3",
      "display_name": "Python 3"
    },
    "language_info": {
      "name": "python"
    }
  },
  "cells": [
    {
      "cell_type": "markdown",
      "metadata": {
        "id": "view-in-github",
        "colab_type": "text"
      },
      "source": [
        "<a href=\"https://colab.research.google.com/github/kakyoung/class2022spring/blob/main/20220425.ipynb\" target=\"_parent\"><img src=\"https://colab.research.google.com/assets/colab-badge.svg\" alt=\"Open In Colab\"/></a>"
      ]
    },
    {
      "cell_type": "markdown",
      "source": [
        "*Auto correlation __자기상관함수\n",
        "=시간항에 대해 이동된 자기 자신의 데이터를 shift한 것.\n",
        "\n",
        "현재의 자료가 과거의 자료로부터 영향을 어느정도 받는가에 대한 '기억, 기록'으로 평가됨.\n",
        "\n",
        "time domain 신호와 같은 함수를 분석하기 위해 신호 처리에 자주 사용됨.\n",
        "혹은 분석 모형의 주요 지표로 활용됨.\n",
        "\n",
        "\n",
        "-------------\n",
        "*Root Mean Square(RMS) __제곱평균제곱근\n",
        "=원래 값의 제곱을 평균하여 제곱근으로 나타낸 값\n",
        "\n",
        "\n",
        "RMSE = Root Mean Square Error, 정밀도(precision)를 표현하는데 적합한 metric. \n",
        "\n",
        "and 각각의 차이 값 = 잔차 \n",
        "\n",
        "평균 제곱근 편차는 잔차들을 하나의 측도로 종합하는데 사용됨.\n",
        "\n",
        "\n",
        "\n",
        "\n"
      ],
      "metadata": {
        "id": "brDK4Bz2qWt9"
      }
    }
  ]
}