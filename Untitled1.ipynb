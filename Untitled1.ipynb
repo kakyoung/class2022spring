{
  "nbformat": 4,
  "nbformat_minor": 0,
  "metadata": {
    "colab": {
      "name": "Untitled1.ipynb",
      "provenance": [],
      "authorship_tag": "ABX9TyMQc00PZK+w/P9oMiwzyqW9",
      "include_colab_link": true
    },
    "kernelspec": {
      "name": "python3",
      "display_name": "Python 3"
    },
    "language_info": {
      "name": "python"
    }
  },
  "cells": [
    {
      "cell_type": "markdown",
      "metadata": {
        "id": "view-in-github",
        "colab_type": "text"
      },
      "source": [
        "<a href=\"https://colab.research.google.com/github/kakyoung/class2022spring/blob/main/Untitled1.ipynb\" target=\"_parent\"><img src=\"https://colab.research.google.com/assets/colab-badge.svg\" alt=\"Open In Colab\"/></a>"
      ]
    },
    {
      "cell_type": "code",
      "execution_count": null,
      "metadata": {
        "id": "fqiK4OY_0xMM"
      },
      "outputs": [],
      "source": [
        "!pip install gradio\n",
        "import gradio as gr\n",
        "import requests\n",
        "import pandas as pd"
      ]
    },
    {
      "cell_type": "code",
      "source": [
        "URL = ('http://apis.data.go.kr/6430000/realtimeStandbyInfoService/getRealtimeStandbyInfo?'\n",
        "       'serviceKey=wMaiV%2FkdZnuWwsFnRYOtqp0Hf7j8EHxwhv%2F%2FzQQc7mosOeiiBkFCAPhnQ30GkmnFr5OzfOUfD%2B0PN2i%2Frs5vnQ%3D%3D'\n",
        "       '&currentPage=1'\n",
        "       '&perPage=10'\n",
        "       '&CODE=533112')\n",
        "\n",
        "response = requests.get(URL)\n"
      ],
      "metadata": {
        "id": "LM4dItEnlHY_"
      },
      "execution_count": null,
      "outputs": []
    },
    {
      "cell_type": "code",
      "source": [
        "r = response.json()\n",
        "r"
      ],
      "metadata": {
        "colab": {
          "base_uri": "https://localhost:8080/"
        },
        "id": "rdjkUsnWKiPh",
        "outputId": "38353225-3e2f-4491-b682-7df3d40024e5"
      },
      "execution_count": null,
      "outputs": [
        {
          "output_type": "execute_result",
          "data": {
            "text/plain": [
              "{'body': [{'CMO': 0.7,\n",
              "   'CODE': 533112,\n",
              "   'MINU': 82,\n",
              "   'NO2': 0.029,\n",
              "   'OZ': 0.025,\n",
              "   'SO2': 0.003,\n",
              "   'TIME': '2021-12-21 22:00',\n",
              "   'ULFPTC': 45}],\n",
              " 'header': {'currentPage': 1,\n",
              "  'perPage': 10,\n",
              "  'resultCode': '00',\n",
              "  'resultMsg': 'NORMAL_SERVICE',\n",
              "  'totalRows': 1}}"
            ]
          },
          "metadata": {},
          "execution_count": 95
        }
      ]
    },
    {
      "cell_type": "code",
      "source": [
        "items = r['body']\n",
        "\n",
        "CMO=[item['CMO'] for item in items]\n",
        "NO2=[item['NO2'] for item in items]\n",
        "\n",
        "CMO = pd.Series(CMO)\n",
        "NO2 = pd.Series(NO2)\n",
        "\n",
        "df=pd.DataFrame( 'CMO'=CMO"
      ],
      "metadata": {
        "id": "SZbDsGrmwQkh"
      },
      "execution_count": null,
      "outputs": []
    },
    {
      "cell_type": "code",
      "source": [
        "def test(CODE):\n",
        " URL = ('http://apis.data.go.kr/6430000/realtimeStandbyInfoService/getRealtimeStandbyInfo?'\n",
        "       'serviceKey=wMaiV%2FkdZnuWwsFnRYOtqp0Hf7j8EHxwhv%2F%2FzQQc7mosOeiiBkFCAPhnQ30GkmnFr5OzfOUfD%2B0PN2i%2Frs5vnQ%3D%3D'\n",
        "       'CODE='+CODE+\n",
        "       '&currentPage=1'\n",
        "       '&perPage=10')\n",
        "\n",
        "response = requests.get(URL)\n",
        "r = response.json()\n",
        "r"
      ],
      "metadata": {
        "id": "iVGbTJgswAzG"
      },
      "execution_count": null,
      "outputs": []
    },
    {
      "cell_type": "code",
      "source": [
        "  "
      ],
      "metadata": {
        "id": "yq6K0xWUqC6l"
      },
      "execution_count": null,
      "outputs": []
    }
  ]
}