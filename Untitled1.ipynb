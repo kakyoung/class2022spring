{
  "nbformat": 4,
  "nbformat_minor": 0,
  "metadata": {
    "colab": {
      "name": "Untitled1.ipynb",
      "provenance": [],
      "authorship_tag": "ABX9TyMVSfx+96OR1xmU9pt9CZzT",
      "include_colab_link": true
    },
    "kernelspec": {
      "name": "python3",
      "display_name": "Python 3"
    },
    "language_info": {
      "name": "python"
    }
  },
  "cells": [
    {
      "cell_type": "markdown",
      "metadata": {
        "id": "view-in-github",
        "colab_type": "text"
      },
      "source": [
        "<a href=\"https://colab.research.google.com/github/kakyoung/class2022spring/blob/main/Untitled1.ipynb\" target=\"_parent\"><img src=\"https://colab.research.google.com/assets/colab-badge.svg\" alt=\"Open In Colab\"/></a>"
      ]
    },
    {
      "cell_type": "code",
      "execution_count": null,
      "metadata": {
        "id": "fqiK4OY_0xMM"
      },
      "outputs": [],
      "source": [
        "!pip install gradio\n",
        "import gradio as gr\n",
        "import requests\n",
        "import pandas as pd"
      ]
    },
    {
      "cell_type": "code",
      "source": [
        "def status(codename):\n",
        "  \n",
        "        URL = ('http://apis.data.go.kr/6430000/realtimeStandbyInfoService/getRealtimeStandbyInfo?'\n",
        "       'serviceKey=wMaiV%2FkdZnuWwsFnRYOtqp0Hf7j8EHxwhv%2F%2FzQQc7mosOeiiBkFCAPhnQ30GkmnFr5OzfOUfD%2B0PN2i%2Frs5vnQ%3D%3D'\n",
        "       '&currentPage=1'\n",
        "       '&CODE='+codename+'perPage=10')\n",
        "        \n",
        "        response = requests.get(URL)\n",
        "        r=response.json()\n",
        "\n",
        "        \n",
        "        items = r['body']\n",
        "        Body=[item['body'] for item in items]\n",
        "\n",
        "        Body=pd.Series(Body)\n",
        "        df=pd.DataFrame({'충북':Body})\n",
        "\n",
        "        return df\n",
        "\n"
      ],
      "metadata": {
        "id": "LM4dItEnlHY_"
      },
      "execution_count": 5,
      "outputs": []
    },
    {
      "cell_type": "code",
      "source": [
        "iface = gr.Interface(status,)"
      ],
      "metadata": {
        "id": "ehAYhBe1Ps_g"
      },
      "execution_count": null,
      "outputs": []
    }
  ]
}