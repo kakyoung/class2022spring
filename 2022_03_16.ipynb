{
  "nbformat": 4,
  "nbformat_minor": 0,
  "metadata": {
    "colab": {
      "name": "2022.03.16.ipynb",
      "provenance": [],
      "collapsed_sections": [],
      "authorship_tag": "ABX9TyNvtbBjKy/LQaKrGTmFQVb+",
      "include_colab_link": true
    },
    "kernelspec": {
      "name": "python3",
      "display_name": "Python 3"
    },
    "language_info": {
      "name": "python"
    }
  },
  "cells": [
    {
      "cell_type": "markdown",
      "metadata": {
        "id": "view-in-github",
        "colab_type": "text"
      },
      "source": [
        "<a href=\"https://colab.research.google.com/github/kakyoung/class2022spring/blob/main/2022_03_16.ipynb\" target=\"_parent\"><img src=\"https://colab.research.google.com/assets/colab-badge.svg\" alt=\"Open In Colab\"/></a>"
      ]
    },
    {
      "cell_type": "code",
      "execution_count": 2,
      "metadata": {
        "id": "krkpH0YTZU05"
      },
      "outputs": [],
      "source": [
        "import numpy as np ; n= np.random.randn(100)"
      ]
    },
    {
      "cell_type": "code",
      "source": [
        "import matplotlib.pyplot as plt"
      ],
      "metadata": {
        "id": "BlC-Y_HjZpGQ"
      },
      "execution_count": 3,
      "outputs": []
    },
    {
      "cell_type": "code",
      "source": [
        "plt.hist(n)"
      ],
      "metadata": {
        "id": "3nGwRFUhZ4Wv"
      },
      "execution_count": null,
      "outputs": []
    },
    {
      "cell_type": "code",
      "source": [
        "from matplotlib import pyplot\n",
        "pyplot.hist(n)"
      ],
      "metadata": {
        "id": "O-_g0ZpKaiDN"
      },
      "execution_count": null,
      "outputs": []
    },
    {
      "cell_type": "code",
      "source": [
        "x = np.array([0, 2, 3])\n",
        "print(x)\n",
        "print(type(x))\n",
        "print(x.shape)"
      ],
      "metadata": {
        "colab": {
          "base_uri": "https://localhost:8080/"
        },
        "id": "A4t6pQ1baydd",
        "outputId": "58bc94bc-decd-407c-c8fe-47c12a545ff2"
      },
      "execution_count": 7,
      "outputs": [
        {
          "output_type": "stream",
          "name": "stdout",
          "text": [
            "[0 2 3]\n",
            "<class 'numpy.ndarray'>\n",
            "(3,)\n"
          ]
        }
      ]
    },
    {
      "cell_type": "code",
      "source": [
        "x = np.arange(0, 3, 1)\n",
        "print(x)\n",
        "print(type(x))\n",
        "print(x.shape)"
      ],
      "metadata": {
        "colab": {
          "base_uri": "https://localhost:8080/"
        },
        "id": "abpz5Q9Kayj8",
        "outputId": "ed02685d-3ef5-476e-9e3a-4e6ad483e4cd"
      },
      "execution_count": 11,
      "outputs": [
        {
          "output_type": "stream",
          "name": "stdout",
          "text": [
            "[0 1 2]\n",
            "<class 'numpy.ndarray'>\n",
            "(3,)\n"
          ]
        }
      ]
    },
    {
      "cell_type": "markdown",
      "source": [
        "linspace(a,b,n) - linear space a~b(including), n등간격으로로 만들어라"
      ],
      "metadata": {
        "id": "cMuZxgwnc9sE"
      }
    },
    {
      "cell_type": "code",
      "source": [
        "x = np.linspace(0, 100, 5)\n",
        "print(x)\n",
        "print(type(x)) ; print(x.shape)"
      ],
      "metadata": {
        "colab": {
          "base_uri": "https://localhost:8080/"
        },
        "id": "LzQoalfLcKgM",
        "outputId": "78561c20-f040-4b9b-dbae-5b060266340d"
      },
      "execution_count": 18,
      "outputs": [
        {
          "output_type": "stream",
          "name": "stdout",
          "text": [
            "[  0.  25.  50.  75. 100.]\n",
            "<class 'numpy.ndarray'>\n",
            "(5,)\n"
          ]
        }
      ]
    },
    {
      "cell_type": "code",
      "source": [
        "x = np.array([[1, 2, 3], [2, 3, 5], [5, 6, 7]])\n",
        "print(x) ; print(type(x))\n",
        "x.shape"
      ],
      "metadata": {
        "colab": {
          "base_uri": "https://localhost:8080/"
        },
        "id": "aACjfrmPdAFi",
        "outputId": "ce732277-29e1-40bd-afca-a3a54d849b41"
      },
      "execution_count": 20,
      "outputs": [
        {
          "output_type": "stream",
          "name": "stdout",
          "text": [
            "[[1 2 3]\n",
            " [2 3 5]\n",
            " [5 6 7]]\n",
            "<class 'numpy.ndarray'>\n"
          ]
        },
        {
          "output_type": "execute_result",
          "data": {
            "text/plain": [
              "(3, 3)"
            ]
          },
          "metadata": {},
          "execution_count": 20
        }
      ]
    },
    {
      "cell_type": "code",
      "source": [
        "x = np.array([[[1, 2, 2],[1, 3, 4]],[[1,2,3],[3,4,5]]])\n",
        "print(x)\n",
        "x.shape"
      ],
      "metadata": {
        "colab": {
          "base_uri": "https://localhost:8080/"
        },
        "id": "sbRBzey4dvtM",
        "outputId": "2258976d-4b21-429d-aa9a-441f47eeaa3c"
      },
      "execution_count": 23,
      "outputs": [
        {
          "output_type": "stream",
          "name": "stdout",
          "text": [
            "[[[1 2 2]\n",
            "  [1 3 4]]\n",
            "\n",
            " [[1 2 3]\n",
            "  [3 4 5]]]\n"
          ]
        },
        {
          "output_type": "execute_result",
          "data": {
            "text/plain": [
              "(2, 2, 3)"
            ]
          },
          "metadata": {},
          "execution_count": 23
        }
      ]
    },
    {
      "cell_type": "code",
      "source": [
        "z = np.array([[1,2,3],[1,2,4]])\n",
        "print(z)\n",
        "z.shape"
      ],
      "metadata": {
        "colab": {
          "base_uri": "https://localhost:8080/"
        },
        "id": "L0j6PflCdvw3",
        "outputId": "b65daec9-0c6f-4023-cf89-57aeae3206ef"
      },
      "execution_count": 26,
      "outputs": [
        {
          "output_type": "stream",
          "name": "stdout",
          "text": [
            "[[1 2 3]\n",
            " [1 2 4]]\n"
          ]
        },
        {
          "output_type": "execute_result",
          "data": {
            "text/plain": [
              "(2, 3)"
            ]
          },
          "metadata": {},
          "execution_count": 26
        }
      ]
    },
    {
      "cell_type": "code",
      "source": [
        "x = np.ones([2, 2, 3]) \n",
        "print(x)\n",
        "print(x.shape)\n",
        "\n",
        "\n",
        "z = np.array([1, 2, 3])\n",
        "print(z)\n",
        "z.shape"
      ],
      "metadata": {
        "colab": {
          "base_uri": "https://localhost:8080/"
        },
        "id": "yxit9I8thEqu",
        "outputId": "b418bfac-7729-41fd-d9fa-de267adb83bf"
      },
      "execution_count": 34,
      "outputs": [
        {
          "output_type": "stream",
          "name": "stdout",
          "text": [
            "[[[1. 1. 1.]\n",
            "  [1. 1. 1.]]\n",
            "\n",
            " [[1. 1. 1.]\n",
            "  [1. 1. 1.]]]\n",
            "(2, 2, 3)\n",
            "[1 2 3]\n"
          ]
        },
        {
          "output_type": "execute_result",
          "data": {
            "text/plain": [
              "(3,)"
            ]
          },
          "metadata": {},
          "execution_count": 34
        }
      ]
    },
    {
      "cell_type": "markdown",
      "source": [
        "random number"
      ],
      "metadata": {
        "id": "TV-J94RtlXWe"
      }
    },
    {
      "cell_type": "code",
      "source": [
        "np.random.normal(0, 1, [2,2,3]) #np.random.normal(평균, 표준편차, [a,b,c])\n",
        "import matplotlib.pyplot as plt"
      ],
      "metadata": {
        "id": "tuHJd8t8kT0J"
      },
      "execution_count": 36,
      "outputs": []
    },
    {
      "cell_type": "code",
      "source": [
        "x = np.random.normal(0,1,50) # (평균, 표준편차, 개수)\n",
        "print(x)\n",
        "plt.hist(x, bins=10) #bins=x. x=그래프 막대의 개수"
      ],
      "metadata": {
        "colab": {
          "base_uri": "https://localhost:8080/",
          "height": 517
        },
        "id": "lXISlzxAnKQP",
        "outputId": "d5e784b6-72e1-4e9c-f85a-c5c8672a0f66"
      },
      "execution_count": 45,
      "outputs": [
        {
          "output_type": "stream",
          "name": "stdout",
          "text": [
            "[ 0.68106547  0.96722318 -0.38295311  0.36506695  0.20452284  0.14667798\n",
            "  1.65820622  1.13929909  1.45352855  0.21079979 -0.47030604  0.00492781\n",
            " -0.32234384 -1.25067486  0.38921484 -0.03320524  0.39716362  0.89785101\n",
            "  0.13256906  0.81545041  1.16996943 -0.50018955  0.45597767 -0.92339843\n",
            "  0.25007396  0.9703168   1.92389276  0.64775531 -0.1700099   0.85981922\n",
            " -0.639456   -1.08593079  0.79223952  0.97682657 -1.16452043 -1.07393125\n",
            " -0.92734986 -2.23943492 -1.66284101  1.00264244 -0.29470241 -0.70450567\n",
            "  0.14057372  0.38434284  0.99526771  0.6515536  -0.76615323  0.65388897\n",
            " -2.12719834 -0.29573936]\n"
          ]
        },
        {
          "output_type": "execute_result",
          "data": {
            "text/plain": [
              "(array([ 2.,  1.,  4.,  5.,  7.,  8.,  8., 10.,  3.,  2.]),\n",
              " array([-2.23943492, -1.82310215, -1.40676938, -0.99043661, -0.57410385,\n",
              "        -0.15777108,  0.25856169,  0.67489446,  1.09122723,  1.50755999,\n",
              "         1.92389276]),\n",
              " <a list of 10 Patch objects>)"
            ]
          },
          "metadata": {},
          "execution_count": 45
        },
        {
          "output_type": "display_data",
          "data": {
            "text/plain": [
              "<Figure size 432x288 with 1 Axes>"
            ],
            "image/png": "[encoded data removed]"
          },
          "metadata": {
            "needs_background": "light"
          }
        }
      ]
    },
    {
      "cell_type": "code",
      "source": [
        "plt.figure()\n",
        "\n",
        "theta1 = np.linspace(0, 2*np.pi, 100) #np.pi = π(3.14...)\n",
        "s1 = np.sin(theta1)\n",
        "theta2 = np.linspace(0, 2*np.pi, 100)+ np.pi/2\n",
        "s2 = np.sin(theta2)\n",
        "theta3 = np.linspace(0, 2*np.pi, 50) - np.pi/2\n",
        "s3 = np.sin(theta3)\n",
        "\n",
        "plt.subplot(3, 1, 1)\n",
        "plt.plot(theta1, s1, '.')\n",
        "plt.subplot(3, 1, 2)\n",
        "plt.plot(theta2, s2, '.')\n",
        "plt.subplot(3, 1, 3)\n",
        "plt.plot(theta3, s3, '.')"
      ],
      "metadata": {
        "colab": {
          "base_uri": "https://localhost:8080/",
          "height": 303
        },
        "id": "tRtLWBlEovkB",
        "outputId": "18c70993-c832-46eb-91b6-6476a12bd701"
      },
      "execution_count": 55,
      "outputs": [
        {
          "output_type": "execute_result",
          "data": {
            "text/plain": [
              "[<matplotlib.lines.Line2D at 0x7f4c04b63210>]"
            ]
          },
          "metadata": {},
          "execution_count": 55
        },
        {
          "output_type": "display_data",
          "data": {
            "text/plain": [
              "<Figure size 432x288 with 3 Axes>"
            ],
            "image/png": "[encoded data removed]"
          },
          "metadata": {
            "needs_background": "light"
          }
        }
      ]
    }
  ]
}